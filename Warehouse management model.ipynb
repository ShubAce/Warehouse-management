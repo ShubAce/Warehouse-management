{
 "cells": [
  {
   "cell_type": "markdown",
   "id": "01b0beeb",
   "metadata": {},
   "source": [
    "## Sets:\n",
    "\n",
    "Let $I$ be the set of products (finished goods) and $T$ the set of time periods (e.g. planning horizon). Optionally, if the warehouse has multiple floors or zones, include a set $F$ of floors.\n",
    "\n",
    "## Parameters:\n",
    "\n",
    "Define parameters such as demand $d_{i,t}$ (units of item $i$ required in period $t$), production capacity $P_t$ in period $t$, storage space (e.g. total warehouse capacity) $W$, and the space usage $a_i$ per unit of item $i$. Also include cost parameters: production cost $c^p_{i,t}$ (per unit), fixed production/setup cost $F_{i,t}$ (if any), and inventory holding cost $h_{i,t}$ per unit carried over. For example, $W$ is the total available storage space for finished goods.\n",
    "\n",
    "## Decision Variables:\n",
    "\n",
    "Introduce variables for production and inventory. For example, let $x_{i,t}\\ge 0$ be the production quantity of item $i$ in period $t$, and $I_{i,t}\\ge 0$ the ending inventory of item $i$ at period $t$. If modeling setup costs, include a binary $y_{i,t}\\in{0,1}$ that is 1 if production of item $i$ occurs in period $t$. (If multiple floors are modeled explicitly, one might include $z_{i,f,t}$ inventory of $i$ on floor $f$, but under a randomized policy a single inventory variable per item is sufficient since any item can occupy any space.)\n"
   ]
  },
  {
   "cell_type": "markdown",
   "id": "e3399753",
   "metadata": {},
   "source": [
    "## The objective function\n",
    "\n",
    "to minimize the total cost of production and warehousing.\n",
    "In Mathematical form:\n",
    "\n",
    "### $Σ_(t∈T) Σ_(i∈I) (c^p_{i,t}*x_{i,t} + F_{i,t}*y_{i,t} + h_{i,t}*I_{i,t})$\n",
    "\n",
    "This sums production costs $c^p{i,t}*x{i,t}$, any fixed (setup) costs $F_{i,t}*y_{i,t}$, and holding costs $h_{i,t}*I_{i,t}$ over all items and periods. This follows the formulation in Zhang et al., who model the strategy as an ILP minimizing total production and warehouse cost.\n"
   ]
  },
  {
   "cell_type": "markdown",
   "id": "f5bcab7f",
   "metadata": {},
   "source": [
    "### Constraints:\n",
    "\n",
    "1. Inventory Balance: For each item $i$ and period $t$, ensure that inventory flows account for production, demand, and previous inventory:\n",
    "   $I_{i,t-1} + x_{i,t} = d_{i,t} + I_{i,t}$, where $I_{i,0} = 0$.\n",
    "   This constraint forces supply plus carry-over to meet demand.\n",
    "\n",
    "2. Production Capacity: In each period $t$, the total production cannot exceed available capacity:\n",
    "   $Σ_(t∈T) x_{i,t}<=P_{t}$\n",
    "   This ensures the model respects machine/time limits.\n",
    "\n",
    "3. Setup Linking (if used): If setup decisions are modeled, link production and setup via a big‑M constraint, e.g.:\n",
    "   $x_{i,t} <= M*y_{i,t} (for all i,t)\n",
    "where M is a large constant (e.g. $M=P_t$). This forces $y_{i,t}=1$ whenever $x_{i,t}>0$\n",
    "\n",
    "4. Inventory Bounds: If each item has a storage limit, enforce $I_{i,t} \\le I^{\\max}i$. In many cases the only limit is total space, so individual $I{i,t}$ may be unbounded except by demand.\n",
    "\n",
    "5. Warehouse Storage Capacity: Under the randomized policy, each unit of inventory occupies space $a_i$, and only the total used space matters (since any item can go to any location). Enforce in each period $t$:\n",
    "   $Σ_(t∈T) a_{i}*I_{i,t}<=W$\n",
    "   This ensures total stored volume does not exceed warehouse capacity. (Because of IoT-enabled random storage, we do not assign items to specific slots; instead the aggregated capacity constraint suffices.)\n",
    "\n",
    "6. Nonnegativity and Integrality: All $x_{i,t},I_{i,t}\\ge0$, and $y_{i,t}\\in{0,1}$ if used.\n"
   ]
  },
  {
   "cell_type": "markdown",
   "id": "d67e55fd",
   "metadata": {},
   "source": [
    "#### Importing Libraries\n"
   ]
  },
  {
   "cell_type": "code",
   "execution_count": 50,
   "id": "bc19c2d1",
   "metadata": {},
   "outputs": [],
   "source": [
    "from gurobipy import *\n",
    "import gurobipy as gp"
   ]
  },
  {
   "cell_type": "code",
   "execution_count": 51,
   "id": "bc7ffd5a",
   "metadata": {},
   "outputs": [],
   "source": [
    "Model = gp.Model(\"Prob\")"
   ]
  },
  {
   "cell_type": "code",
   "execution_count": 52,
   "id": "774ddbfd",
   "metadata": {},
   "outputs": [],
   "source": [
    "items = [f'item{i}' for i in range(6)] # Assuming there are 10 items\n",
    "T = 5  # Assuming time period T=5\n",
    "periods = range(1, T+1) "
   ]
  },
  {
   "cell_type": "code",
   "execution_count": 53,
   "id": "ae2f6431",
   "metadata": {},
   "outputs": [],
   "source": [
    "# Production cost\n",
    "c_prod = {(i, t): 10 + (idx + t) % 5 for idx, i in enumerate(items) for t in periods}\n",
    "\n",
    "# Setup cost\n",
    "F_setup = {(i, t): 100 + (idx + t) * 10 for idx, i in enumerate(items) for t in periods}\n",
    "\n",
    "# Holding cost\n",
    "h_cost = {(i, t): 2 + (idx + t) % 3 for idx, i in enumerate(items) for t in periods}\n",
    "\n",
    "demand = {(i, t): 20 + (idx + t) * 2 for idx, i in enumerate(items) for t in periods}\n",
    "max_prod = {(i, t): 100 for i in items for t in periods}  # Max production capacity\n",
    "warehouse_capacity = {t: 400 for t in periods}  # Max Warehouse space per period"
   ]
  },
  {
   "cell_type": "code",
   "execution_count": 64,
   "id": "2af599a4",
   "metadata": {},
   "outputs": [
    {
     "data": {
      "text/plain": [
       "{('item0', 1): 11,\n",
       " ('item0', 2): 12,\n",
       " ('item0', 3): 13,\n",
       " ('item0', 4): 14,\n",
       " ('item0', 5): 10,\n",
       " ('item1', 1): 12,\n",
       " ('item1', 2): 13,\n",
       " ('item1', 3): 14,\n",
       " ('item1', 4): 10,\n",
       " ('item1', 5): 11,\n",
       " ('item2', 1): 13,\n",
       " ('item2', 2): 14,\n",
       " ('item2', 3): 10,\n",
       " ('item2', 4): 11,\n",
       " ('item2', 5): 12,\n",
       " ('item3', 1): 14,\n",
       " ('item3', 2): 10,\n",
       " ('item3', 3): 11,\n",
       " ('item3', 4): 12,\n",
       " ('item3', 5): 13,\n",
       " ('item4', 1): 10,\n",
       " ('item4', 2): 11,\n",
       " ('item4', 3): 12,\n",
       " ('item4', 4): 13,\n",
       " ('item4', 5): 14,\n",
       " ('item5', 1): 11,\n",
       " ('item5', 2): 12,\n",
       " ('item5', 3): 13,\n",
       " ('item5', 4): 14,\n",
       " ('item5', 5): 10}"
      ]
     },
     "execution_count": 64,
     "metadata": {},
     "output_type": "execute_result"
    }
   ],
   "source": [
    "c_prod"
   ]
  },
  {
   "cell_type": "markdown",
   "id": "15f54b46",
   "metadata": {},
   "source": [
    "#### Making variables\n"
   ]
  },
  {
   "cell_type": "code",
   "execution_count": 55,
   "id": "f27bf836",
   "metadata": {},
   "outputs": [],
   "source": [
    "x = Model.addVars(items, periods, name='x', lb=0)\n",
    "I = Model.addVars(items, periods, name='I', lb=0)\n",
    "y = Model.addVars(items, periods, name='y', vtype=GRB.BINARY)"
   ]
  },
  {
   "cell_type": "markdown",
   "id": "3fdf3513",
   "metadata": {},
   "source": [
    "#### Setting the objective function\n"
   ]
  },
  {
   "cell_type": "code",
   "execution_count": 56,
   "id": "f4d27420",
   "metadata": {},
   "outputs": [],
   "source": [
    "Model.setObjective(\n",
    "    gp.quicksum(c_prod[i,t]*x[i,t] + F_setup[i,t]*y[i,t] + h_cost[i,t]*I[i,t]\n",
    "    for i in items for t in periods),\n",
    "    GRB.MAXIMIZE\n",
    ")"
   ]
  },
  {
   "cell_type": "markdown",
   "id": "55bc26c2",
   "metadata": {},
   "source": [
    "#### Inventory balance: I[i,t] = I[i,t-1] + x[i,t] - demand[i,t]\n"
   ]
  },
  {
   "cell_type": "code",
   "execution_count": 57,
   "id": "9e1cae81",
   "metadata": {},
   "outputs": [],
   "source": [
    "for i in items:\n",
    "    for t in periods:\n",
    "        if t == 1:\n",
    "            Model.addConstr(I[i, t] == x[i, t] - demand[i, t], name=f\"inv_balance_{i}_{t}\")\n",
    "        else:\n",
    "            Model.addConstr(I[i, t] == I[i, t-1] + x[i, t] - demand[i, t], name=f\"inv_balance_{i}_{t}\")"
   ]
  },
  {
   "cell_type": "markdown",
   "id": "6ff48b7b",
   "metadata": {},
   "source": [
    "#### Production only if setup is done\n"
   ]
  },
  {
   "cell_type": "code",
   "execution_count": 58,
   "id": "44b2dc46",
   "metadata": {},
   "outputs": [],
   "source": [
    "for i in items:\n",
    "    for t in periods:\n",
    "        Model.addConstr(x[i, t] <= max_prod[i, t] * y[i, t], name=f\"setup_limit_{i}_{t}\")"
   ]
  },
  {
   "cell_type": "markdown",
   "id": "b80b1aa5",
   "metadata": {},
   "source": [
    "#### Warehouse capacity constraint (total inventory across items ≤ capacity)\n"
   ]
  },
  {
   "cell_type": "code",
   "execution_count": 59,
   "id": "e8aec060",
   "metadata": {},
   "outputs": [],
   "source": [
    "for t in periods:\n",
    "    Model.addConstr(\n",
    "        gp.quicksum(I[i, t] for i in items) <= warehouse_capacity[t],\n",
    "        name=f\"warehouse_capacity_{t}\"\n",
    "    )"
   ]
  },
  {
   "cell_type": "markdown",
   "id": "e072ce85",
   "metadata": {},
   "source": [
    "#### Initial inventory = 0\n"
   ]
  },
  {
   "cell_type": "code",
   "execution_count": 60,
   "id": "2a5290aa",
   "metadata": {},
   "outputs": [],
   "source": [
    "for i in items:\n",
    "    Model.addConstr(I[i, 1] >= 0, name=f\"init_inventory_{i}\")"
   ]
  },
  {
   "cell_type": "code",
   "execution_count": 61,
   "id": "46b3d61d",
   "metadata": {},
   "outputs": [],
   "source": [
    "Model.write('Warehouse management.lp')"
   ]
  },
  {
   "cell_type": "markdown",
   "id": "02648ad0",
   "metadata": {},
   "source": [
    "#### Model optimization\n"
   ]
  },
  {
   "cell_type": "code",
   "execution_count": 62,
   "id": "ef9985cd",
   "metadata": {},
   "outputs": [
    {
     "name": "stdout",
     "output_type": "stream",
     "text": [
      "Gurobi Optimizer version 12.0.2 build v12.0.2rc0 (win64 - Windows 11.0 (26100.2))\n",
      "\n",
      "CPU model: 13th Gen Intel(R) Core(TM) i7-13700HX, instruction set [SSE2|AVX|AVX2]\n",
      "Thread count: 16 physical cores, 24 logical processors, using up to 24 threads\n",
      "\n",
      "Optimize a model with 71 rows, 90 columns and 180 nonzeros\n",
      "Model fingerprint: 0xc81e8634\n",
      "Variable types: 60 continuous, 30 integer (30 binary)\n",
      "Coefficient statistics:\n",
      "  Matrix range     [1e+00, 1e+02]\n",
      "  Objective range  [2e+00, 2e+02]\n",
      "  Bounds range     [1e+00, 1e+00]\n",
      "  RHS range        [2e+01, 4e+02]\n",
      "Found heuristic solution: objective 15810.000000\n",
      "Presolve removed 42 rows and 36 columns\n",
      "Presolve time: 0.00s\n",
      "Presolved: 29 rows, 54 columns, 102 nonzeros\n",
      "Variable types: 54 continuous, 0 integer (0 binary)\n",
      "\n",
      "Root relaxation: objective 2.786800e+04, 33 iterations, 0.00 seconds (0.00 work units)\n",
      "\n",
      "    Nodes    |    Current Node    |     Objective Bounds      |     Work\n",
      " Expl Unexpl |  Obj  Depth IntInf | Incumbent    BestBd   Gap | It/Node Time\n",
      "\n",
      "*    0     0               0    27868.000000 27868.0000  0.00%     -    0s\n",
      "\n",
      "Explored 1 nodes (33 simplex iterations) in 0.01 seconds (0.00 work units)\n",
      "Thread count was 24 (of 24 available processors)\n",
      "\n",
      "Solution count 1: 27868 \n",
      "\n",
      "Optimal solution found (tolerance 1.00e-04)\n",
      "Best objective 2.786800000000e+04, best bound 2.786800000000e+04, gap 0.0000%\n"
     ]
    }
   ],
   "source": [
    "Model.optimize()"
   ]
  },
  {
   "cell_type": "markdown",
   "id": "6dda9779",
   "metadata": {},
   "source": [
    "#### Output Solution\n"
   ]
  },
  {
   "cell_type": "code",
   "execution_count": 63,
   "id": "804eef7b",
   "metadata": {},
   "outputs": [
    {
     "name": "stdout",
     "output_type": "stream",
     "text": [
      "Optimal Total Cost: 27868.0\n",
      "item0, Period 1: x=100.0, y=1.0, I=78.0\n",
      "item0, Period 2: x=74.0, y=1.0, I=128.0\n",
      "item0, Period 3: x=10.0, y=1.0, I=112.0\n",
      "item0, Period 4: x=100.0, y=1.0, I=184.0\n",
      "item0, Period 5: x=0.0, y=1.0, I=154.0\n",
      "item1, Period 1: x=100.0, y=1.0, I=76.0\n",
      "item1, Period 2: x=0.0, y=1.0, I=50.0\n",
      "item1, Period 3: x=100.0, y=1.0, I=122.0\n",
      "item1, Period 4: x=0.0, y=1.0, I=92.0\n",
      "item1, Period 5: x=0.0, y=1.0, I=60.0\n",
      "item2, Period 1: x=100.0, y=1.0, I=74.0\n",
      "item2, Period 2: x=100.0, y=1.0, I=146.0\n",
      "item2, Period 3: x=0.0, y=1.0, I=116.0\n",
      "item2, Period 4: x=0.0, y=1.0, I=84.0\n",
      "item2, Period 5: x=10.0, y=1.0, I=60.0\n",
      "item3, Period 1: x=100.0, y=1.0, I=72.0\n",
      "item3, Period 2: x=0.0, y=1.0, I=42.0\n",
      "item3, Period 3: x=0.0, y=1.0, I=10.0\n",
      "item3, Period 4: x=24.0, y=1.0, I=0.0\n",
      "item3, Period 5: x=100.0, y=1.0, I=64.0\n",
      "item4, Period 1: x=96.0, y=1.0, I=66.0\n",
      "item4, Period 2: x=0.0, y=1.0, I=34.0\n",
      "item4, Period 3: x=0.0, y=1.0, I=0.0\n",
      "item4, Period 4: x=36.0, y=1.0, I=0.0\n",
      "item4, Period 5: x=100.0, y=1.0, I=62.0\n",
      "item5, Period 1: x=66.0, y=1.0, I=34.0\n",
      "item5, Period 2: x=0.0, y=1.0, I=0.0\n",
      "item5, Period 3: x=76.0, y=1.0, I=40.0\n",
      "item5, Period 4: x=38.0, y=1.0, I=40.0\n",
      "item5, Period 5: x=0.0, y=1.0, I=0.0\n"
     ]
    }
   ],
   "source": [
    "if Model.status == GRB.OPTIMAL:\n",
    "    print(\"Optimal Total Cost:\", Model.objVal)\n",
    "    for i in items:\n",
    "        for t in periods:\n",
    "            print(f\"{i}, Period {t}: x={x[i, t].X}, y={y[i, t].X}, I={I[i, t].X}\")\n"
   ]
  },
  {
   "cell_type": "code",
   "execution_count": null,
   "id": "b6a1dc80",
   "metadata": {},
   "outputs": [],
   "source": []
  }
 ],
 "metadata": {
  "kernelspec": {
   "display_name": "py-TF",
   "language": "python",
   "name": "python3"
  },
  "language_info": {
   "codemirror_mode": {
    "name": "ipython",
    "version": 3
   },
   "file_extension": ".py",
   "mimetype": "text/x-python",
   "name": "python",
   "nbconvert_exporter": "python",
   "pygments_lexer": "ipython3",
   "version": "3.12.8"
  }
 },
 "nbformat": 4,
 "nbformat_minor": 5
}
